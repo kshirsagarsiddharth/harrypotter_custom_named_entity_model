{
 "cells": [
  {
   "cell_type": "code",
   "execution_count": 2,
   "source": [
    "import json \r\n",
    "import spacy \r\n",
    "from spacy.lang.en import English \r\n",
    "from spacy.pipeline import EntityRuler # allows to create rules "
   ],
   "outputs": [],
   "metadata": {}
  },
  {
   "cell_type": "code",
   "execution_count": 5,
   "source": [
    "def load_data(file):\r\n",
    "    \"\"\"\r\n",
    "    takes json file location and python representation of that json file \r\n",
    "    \"\"\"\r\n",
    "    with open(file,\"r\", encoding='utf-8') as f: \r\n",
    "        data = json.load(f) \r\n",
    "    return data "
   ],
   "outputs": [],
   "metadata": {}
  },
  {
   "cell_type": "code",
   "execution_count": 37,
   "source": [
    "def generate_better_characters(file):\r\n",
    "    data = load_data(file) \r\n",
    "    print(len(data))\r\n",
    "    new_characters = []\r\n",
    "    for item in data:\r\n",
    "        new_characters.append(item)\r\n",
    "\r\n",
    "    for item in data: \r\n",
    "        item = item.replace(\"The\",\"\").replace(\"the\",\"\").replace(\"and\",\"\").replace(\"And\",\"\") \r\n",
    "        names = item.split(\" \")\r\n",
    "        for name in names:\r\n",
    "            name = name.strip() \r\n",
    "            new_characters.append(name)\r\n",
    "        \r\n",
    "        if \"(\" in item:\r\n",
    "            names = item.split(\"(\")\r\n",
    "            for name in names:\r\n",
    "                name = name.replace(\")\",\"\").strip()\r\n",
    "                new_characters.append(name)\r\n",
    "\r\n",
    "        if \",\" in item:\r\n",
    "            names = item.split(\",\")\r\n",
    "            for name in names:\r\n",
    "                if \" \" in name:\r\n",
    "                    new_names = name.split()\r\n",
    "                    for new_name in new_names:\r\n",
    "                        new_characters.append(new_name.strip())\r\n",
    "                        #print(new_name)\r\n",
    "                new_characters.append(name.replace(\"and\",\"\").strip())\r\n",
    "    \r\n",
    "    final_characters = []\r\n",
    "    titles = [\"Dr.\",\"Professor\",\"Mr.\",\"Mrs.\",\"Ms.\",\"Miss\",\"Aunt\",\"Uncle\",\"Mr. and Mrs.\"] \r\n",
    "    for character in new_characters: \r\n",
    "        if \"\" != character:\r\n",
    "            final_characters.append(character) \r\n",
    "            for title in titles: \r\n",
    "                titled_char = f\"{title} {character}\"\r\n",
    "                print(titled_char)\r\n",
    "                final_characters.append(titled_char) \r\n",
    "\r\n",
    "\r\n",
    "\r\n",
    "                \r\n",
    "            \r\n",
    "    return new_characters "
   ],
   "outputs": [],
   "metadata": {}
  },
  {
   "cell_type": "code",
   "execution_count": 38,
   "source": [
    "a = generate_better_characters(\"hp_characters.json\")"
   ],
   "outputs": [
    {
     "output_type": "stream",
     "name": "stdout",
     "text": [
      "207\n",
      "623\n"
     ]
    }
   ],
   "metadata": {}
  },
  {
   "cell_type": "code",
   "execution_count": null,
   "source": [],
   "outputs": [],
   "metadata": {}
  }
 ],
 "metadata": {
  "orig_nbformat": 4,
  "language_info": {
   "name": "python",
   "version": "3.8.5",
   "mimetype": "text/x-python",
   "codemirror_mode": {
    "name": "ipython",
    "version": 3
   },
   "pygments_lexer": "ipython3",
   "nbconvert_exporter": "python",
   "file_extension": ".py"
  },
  "kernelspec": {
   "name": "python3",
   "display_name": "Python 3.8.5 64-bit ('base': conda)"
  },
  "interpreter": {
   "hash": "4829509429bc936f3154465d610ee2a3576f51308e11c88f126dfe38dafbbc67"
  }
 },
 "nbformat": 4,
 "nbformat_minor": 2
}