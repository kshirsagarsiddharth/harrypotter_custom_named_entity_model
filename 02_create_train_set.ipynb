{
 "cells": [
  {
   "cell_type": "code",
   "execution_count": 34,
   "source": [
    "import spacy \r\n",
    "import json \r\n",
    "import random \r\n",
    "\r\n",
    "def load_data(file):\r\n",
    "    \"\"\"\r\n",
    "    takes json file location and \r\n",
    "    returns python object representation of that json file \r\n",
    "    \"\"\"\r\n",
    "    with open(file,\"r\", encoding='utf-8') as f: \r\n",
    "        data = json.load(f) \r\n",
    "    return data \r\n",
    "\r\n",
    "def test_model(model, text): \r\n",
    "    doc = nlp(text) \r\n",
    "    results = [] \r\n",
    "    entities = [] \r\n",
    "    for ent in doc.ents: \r\n",
    "        entities.append((ent.start_char, ent.end_char, ent.label_)) \r\n",
    "    if len(entities) > 0: \r\n",
    "        results = [text, {'entities':entities}] \r\n",
    "    return results \r\n",
    "\r\n",
    "\r\n",
    "def save_data(file, data): \r\n",
    "    with open(file,\"w\", encoding='utf-8') as f: \r\n",
    "        json.dump(data,f, indent=4)  \r\n"
   ],
   "outputs": [],
   "metadata": {}
  },
  {
   "cell_type": "code",
   "execution_count": 35,
   "source": [
    "nlp = spacy.load(\"hp_ner\")\r\n",
    "from tqdm.notebook import tqdm\r\n",
    "TRAIN_DATA = []\r\n",
    "with open('hp.txt','r', encoding = 'utf-8') as f: \r\n",
    "    text = f.read()\r\n",
    "    chapters = text.split('CHAPTER')[1:] \r\n",
    "    for chapter in tqdm(chapters): \r\n",
    "        chapter_num, chapter_title = chapter.split(\"\\n\\n\")[:2]\r\n",
    "        chapter_num = chapter_num.strip()\r\n",
    "        chapter_title = chapter_title.strip()\r\n",
    "        segments = chapter.split('\\n\\n')[2:]\r\n",
    "        hits = [] \r\n",
    "        for segment in segments:\r\n",
    "            segment = segment.strip() \r\n",
    "            segment = segment.replace(\"\\n\",\"\") \r\n",
    "            results = test_model(nlp, segment)\r\n",
    "\r\n",
    "            if results != None: \r\n",
    "                TRAIN_DATA.append(results)\r\n",
    "\r\n",
    "            \r\n",
    "\r\n",
    "\r\n",
    "\r\n",
    "\r\n"
   ],
   "outputs": [
    {
     "output_type": "display_data",
     "data": {
      "text/plain": [
       "  0%|          | 0/17 [00:00<?, ?it/s]"
      ],
      "application/vnd.jupyter.widget-view+json": {
       "version_major": 2,
       "version_minor": 0,
       "model_id": "018bf21d662545988848c7dbc7cacc11"
      }
     },
     "metadata": {}
    }
   ],
   "metadata": {}
  },
  {
   "cell_type": "code",
   "execution_count": 36,
   "source": [
    "save_data('hp_training_data.json',TRAIN_DATA)"
   ],
   "outputs": [],
   "metadata": {}
  },
  {
   "cell_type": "code",
   "execution_count": null,
   "source": [],
   "outputs": [],
   "metadata": {}
  }
 ],
 "metadata": {
  "orig_nbformat": 4,
  "language_info": {
   "name": "python",
   "version": "3.8.5",
   "mimetype": "text/x-python",
   "codemirror_mode": {
    "name": "ipython",
    "version": 3
   },
   "pygments_lexer": "ipython3",
   "nbconvert_exporter": "python",
   "file_extension": ".py"
  },
  "kernelspec": {
   "name": "python3",
   "display_name": "Python 3.8.5 64-bit ('base': conda)"
  },
  "interpreter": {
   "hash": "4829509429bc936f3154465d610ee2a3576f51308e11c88f126dfe38dafbbc67"
  }
 },
 "nbformat": 4,
 "nbformat_minor": 2
}