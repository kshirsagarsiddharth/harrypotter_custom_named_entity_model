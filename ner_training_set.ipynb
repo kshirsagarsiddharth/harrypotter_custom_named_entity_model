{
 "cells": [
  {
   "cell_type": "code",
   "execution_count": 1,
   "source": [
    "import spacy \r\n",
    "import json \r\n",
    "import random \r\n",
    "\r\n",
    "def load_data(file):\r\n",
    "    \"\"\"\r\n",
    "    takes json file location and \r\n",
    "    returns python object representation of that json file \r\n",
    "    \"\"\"\r\n",
    "    with open(file,\"r\", encoding='utf-8') as f: \r\n",
    "        data = json.load(f) \r\n",
    "    return data \r\n",
    "\r\n",
    "def test_model(nlp, text): \r\n",
    "    \r\n",
    "    doc = nlp(text) \r\n",
    "    results = [] \r\n",
    "    for ent in doc.ents:\r\n",
    "        results.append(ent.text)\r\n",
    "    return results \r\n",
    "\r\n",
    "\r\n",
    "def save_data(file, data): \r\n",
    "    with open(file,\"w\", encoding='utf-8') as f: \r\n",
    "        json.dump(data,f, indent=4)  \r\n"
   ],
   "outputs": [],
   "metadata": {}
  },
  {
   "cell_type": "code",
   "execution_count": 2,
   "source": [
    "nlp = spacy.load(\"hp_ner\")\r\n",
    "with open('hp.txt','r', encoding = 'utf-8') as f: \r\n",
    "    text = f.read()\r\n",
    "    chapters = text.split('CHAPTER')[1:] \r\n",
    "    for chapter in chapters: \r\n",
    "        chapter_num, chapter_title = chapter.split(\"\\n\\n\")[:2]\r\n",
    "        chapter_num = chapter_num.strip()\r\n",
    "        chapter_title = chapter_title.strip()\r\n",
    "        segments = chapter.split('\\n\\n')[2:]\r\n",
    "        hits = [] \r\n",
    "        for segment in segments:\r\n",
    "            segment = segment.strip() \r\n",
    "            segment = segment.replace(\"\\n\",\"\") \r\n",
    "            results = test_model(nlp, segment)\r\n",
    "            \r\n",
    "\r\n",
    "\r\n",
    "\r\n",
    "\r\n"
   ],
   "outputs": [],
   "metadata": {}
  },
  {
   "cell_type": "code",
   "execution_count": 3,
   "source": [
    "# TRAIN_DATA = [(text, {'entities': [start, end, label]})] \r\n",
    "\r\n",
    "\r\n",
    "segment"
   ],
   "outputs": [
    {
     "output_type": "execute_result",
     "data": {
      "text/plain": [
       "'\"Oh, I will,\" said Harry, and they were surprised at the grin that wasspreading over his face. \"They don\\'t know we\\'re not allowed to use magicat home. I\\'m going to have a lot of fun with Dudley this summer....\"'"
      ]
     },
     "metadata": {},
     "execution_count": 3
    }
   ],
   "metadata": {}
  },
  {
   "cell_type": "code",
   "execution_count": 19,
   "source": [
    "text = segment\r\n",
    "doc = nlp(text)\r\n",
    "results = []\r\n",
    "entities = []\r\n",
    "for ent in doc.ents:\r\n",
    "    #results.append(ent.text)\r\n",
    "    entities.append((ent.start_char, ent.end_char, ent.label_))\r\n",
    "if len(entities) > 0:\r\n",
    "    results = [(text, {'entities': entities})]\r\n",
    "\r\n",
    "#results"
   ],
   "outputs": [],
   "metadata": {}
  },
  {
   "cell_type": "code",
   "execution_count": 24,
   "source": [
    "text = segment \r\n",
    "text\r\n",
    "doc = nlp(text)\r\n",
    "entities = [] \r\n",
    "results = []\r\n",
    "for ent in doc.ents:\r\n",
    "    entities.append((ent.start_char, ent.end_char, ent.label_))\r\n",
    "if len(entities) > 0: \r\n",
    "    results = [(text, {'entities': entities})]\r\n",
    "results\r\n",
    "\r\n"
   ],
   "outputs": [
    {
     "output_type": "execute_result",
     "data": {
      "text/plain": [
       "[('\"Oh, I will,\" said Harry, and they were surprised at the grin that wasspreading over his face. \"They don\\'t know we\\'re not allowed to use magicat home. I\\'m going to have a lot of fun with Dudley this summer....\"',\n",
       "  {'entities': [(19, 24, 'PERSON'),\n",
       "    (187, 193, 'PERSON'),\n",
       "    (194, 205, 'DATE')]})]"
      ]
     },
     "metadata": {},
     "execution_count": 24
    }
   ],
   "metadata": {}
  },
  {
   "cell_type": "code",
   "execution_count": null,
   "source": [
    "# TRAIN_DATA = [(text, {'entities': [start, end, label]})] "
   ],
   "outputs": [],
   "metadata": {}
  }
 ],
 "metadata": {
  "orig_nbformat": 4,
  "language_info": {
   "name": "python",
   "version": "3.8.5",
   "mimetype": "text/x-python",
   "codemirror_mode": {
    "name": "ipython",
    "version": 3
   },
   "pygments_lexer": "ipython3",
   "nbconvert_exporter": "python",
   "file_extension": ".py"
  },
  "kernelspec": {
   "name": "python3",
   "display_name": "Python 3.8.5 64-bit ('base': conda)"
  },
  "interpreter": {
   "hash": "4829509429bc936f3154465d610ee2a3576f51308e11c88f126dfe38dafbbc67"
  }
 },
 "nbformat": 4,
 "nbformat_minor": 2
}